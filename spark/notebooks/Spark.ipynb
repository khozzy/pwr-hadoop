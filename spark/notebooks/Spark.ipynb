{
 "cells": [
  {
   "cell_type": "code",
   "execution_count": 9,
   "id": "f2694418",
   "metadata": {},
   "outputs": [],
   "source": [
    "from pathlib import Path\n",
    "import findspark\n",
    "\n",
    "findspark.init(spark_home=str(Path.cwd() / \"..\" / \"ext\" / \"spark-3.4.0-bin-hadoop3\"))\n",
    "\n",
    "import pyspark"
   ]
  },
  {
   "cell_type": "code",
   "execution_count": 10,
   "id": "ebcf5b0f",
   "metadata": {},
   "outputs": [
    {
     "name": "stdout",
     "output_type": "stream",
     "text": [
      "[1, 2, 3]\n"
     ]
    }
   ],
   "source": [
    "with pyspark.SparkContext() as sc:\n",
    "    rdd = sc.parallelize([1,2,3])\n",
    "    print(rdd.collect())"
   ]
  },
  {
   "cell_type": "markdown",
   "id": "9227ec64",
   "metadata": {},
   "source": [
    "## Spark SQL"
   ]
  },
  {
   "cell_type": "code",
   "execution_count": 8,
   "id": "b170546c",
   "metadata": {},
   "outputs": [
    {
     "name": "stdout",
     "output_type": "stream",
     "text": [
      "+-------+--------+-------+-------+\n",
      "|User ID|Username|Browser|     OS|\n",
      "+-------+--------+-------+-------+\n",
      "|   1580|   Barry|FireFox|Windows|\n",
      "|   5820|     Sam|MS Edge|  Linux|\n",
      "|   2340|   Harry|Vivaldi|Windows|\n",
      "|   7860|  Albert| Chrome|Windows|\n",
      "|   1123|     May| Safari|  macOS|\n",
      "+-------+--------+-------+-------+\n",
      "\n"
     ]
    }
   ],
   "source": [
    "from pyspark.sql import SparkSession\n",
    "from pyspark.sql.types import StructType, StructField, FloatType, BooleanType\n",
    "from pyspark.sql.types import DoubleType, IntegerType, StringType\n",
    "\n",
    "\n",
    "# Setup the Configuration\n",
    "with SparkSession.builder.getOrCreate() as sc:\n",
    "    # Setup the Schema\n",
    "    schema = StructType([\n",
    "        StructField(\"User ID\", IntegerType(),True),\n",
    "        StructField(\"Username\", StringType(),True),\n",
    "        StructField(\"Browser\", StringType(),True),\n",
    "        StructField(\"OS\", StringType(),True),\n",
    "    ])\n",
    "\n",
    "    # Add Data\n",
    "    data = ([\n",
    "        (1580, \"Barry\", \"FireFox\", \"Windows\" ),\n",
    "        (5820, \"Sam\", \"MS Edge\", \"Linux\"),\n",
    "        (2340, \"Harry\", \"Vivaldi\", \"Windows\"),\n",
    "        (7860, \"Albert\", \"Chrome\", \"Windows\"),\n",
    "        (1123, \"May\", \"Safari\", \"macOS\")\n",
    "    ])\n",
    "    \n",
    "    # Setup the Data Frame\n",
    "    user_data_df = sc.createDataFrame(data,schema=schema)\n",
    "    \n",
    "    user_data_df.show()"
   ]
  },
  {
   "cell_type": "code",
   "execution_count": null,
   "id": "ded7ab1d",
   "metadata": {},
   "outputs": [],
   "source": []
  }
 ],
 "metadata": {
  "kernelspec": {
   "display_name": "Python 3 (ipykernel)",
   "language": "python",
   "name": "python3"
  },
  "language_info": {
   "codemirror_mode": {
    "name": "ipython",
    "version": 3
   },
   "file_extension": ".py",
   "mimetype": "text/x-python",
   "name": "python",
   "nbconvert_exporter": "python",
   "pygments_lexer": "ipython3",
   "version": "3.11.3"
  }
 },
 "nbformat": 4,
 "nbformat_minor": 5
}
