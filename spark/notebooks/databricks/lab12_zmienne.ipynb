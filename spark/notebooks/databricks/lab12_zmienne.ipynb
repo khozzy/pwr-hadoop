{
 "cells": [
  {
   "cell_type": "markdown",
   "metadata": {
    "application/vnd.databricks.v1+cell": {
     "inputWidgets": {},
     "nuid": "208dd34b-dfdc-4659-813c-c4685dd42255",
     "showTitle": false,
     "title": ""
    }
   },
   "source": [
    "# Hurtownie danych i Big Data\n",
    "## Lab 12 - Zapoznanie się z ekosystemem Databricks\n",
    "\n",
    "Databricks uruchamiając interpreter Python automatycznie umożliwia dostęp do 3 predefiniowanych zmiennych. **Nie należy tworzyć ich na własną rękę - platforma gwarantuje ich poprawną inicjalizację i obsługę**.\n",
    "\n",
    "\n",
    "### 1. Spark Context - `sc` (*zaszłość*)\n",
    "Zmienna `sc` określa konfigurację klastra do którego podłączony będzie sterownik naszej aplikacji. Odradzane jest bezpośrednie korzystanie z tej zmiennej na rzecz obiektu `SparkSession` (opisanego niżej). Utrzymywana jest ona z powodu zapewnienia wstecznej kompatybilności z isniejącymi aplikacjami."
   ]
  },
  {
   "cell_type": "code",
   "execution_count": null,
   "metadata": {
    "application/vnd.databricks.v1+cell": {
     "inputWidgets": {},
     "nuid": "ce574586-d6b3-4031-bce6-a41030a03cc2",
     "showTitle": false,
     "title": ""
    }
   },
   "outputs": [],
   "source": [
    "sc"
   ]
  },
  {
   "cell_type": "markdown",
   "metadata": {
    "application/vnd.databricks.v1+cell": {
     "inputWidgets": {},
     "nuid": "9530d47b-adeb-4806-8319-031483433925",
     "showTitle": false,
     "title": ""
    }
   },
   "source": [
    "### 2. SQL Context / Hive Context - `sqlContext` (*zaszłość*)\n",
    "Zmienna `sqlContext` używana jest w momencie, gdy chcemy skorzystać z istniejącej instalacji Hive (automatycznie pobranie dostępnych konfiguracji i obiektów z plików konfiguracyjnych). Umożliwia ona bezpośrednie tworzenie kolekcji danych zgodnych z modułem Spark SQL. Podobnie jak wyżej jej użycie jest odradzane."
   ]
  },
  {
   "cell_type": "code",
   "execution_count": null,
   "metadata": {
    "application/vnd.databricks.v1+cell": {
     "inputWidgets": {},
     "nuid": "e06b53f2-7f23-422c-9873-8a2c1c434710",
     "showTitle": false,
     "title": ""
    }
   },
   "outputs": [],
   "source": [
    "sqlContext"
   ]
  },
  {
   "cell_type": "markdown",
   "metadata": {
    "application/vnd.databricks.v1+cell": {
     "inputWidgets": {},
     "nuid": "89e8e5b9-ec74-4d36-9075-a1fdbf6839df",
     "showTitle": false,
     "title": ""
    }
   },
   "source": [
    "### 3. Spark Session - `spark`\n",
    "Zmienna `spark` (dostępna od wersji 2.0) jest aktualnie **zalecanym** punktem wejścia do aplikacji Spark. Agreguje w sobie dwa kontekst powyżej i umożliwia konfigurację całego środowiska obliczeniowego."
   ]
  },
  {
   "cell_type": "code",
   "execution_count": null,
   "metadata": {
    "application/vnd.databricks.v1+cell": {
     "inputWidgets": {},
     "nuid": "9b1256b4-61c3-4888-b513-c95f85ceadfe",
     "showTitle": false,
     "title": ""
    }
   },
   "outputs": [],
   "source": [
    "spark"
   ]
  },
  {
   "cell_type": "markdown",
   "metadata": {
    "application/vnd.databricks.v1+cell": {
     "inputWidgets": {},
     "nuid": "cea8f8fb-6639-4597-b899-975e460dfc60",
     "showTitle": false,
     "title": ""
    }
   },
   "source": [
    "Przykładowo - do uzyskania informacji nt. trybu pracy klastra można przeanalizować parametr `master`."
   ]
  },
  {
   "cell_type": "code",
   "execution_count": null,
   "metadata": {
    "application/vnd.databricks.v1+cell": {
     "inputWidgets": {},
     "nuid": "1fdae997-e647-4dc7-a6a4-e73213e5c474",
     "showTitle": false,
     "title": ""
    }
   },
   "outputs": [],
   "source": [
    "spark.sparkContext.master"
   ]
  },
  {
   "cell_type": "markdown",
   "metadata": {
    "application/vnd.databricks.v1+cell": {
     "inputWidgets": {},
     "nuid": "4023d130-ac23-4494-84f7-4a285e4bee5e",
     "showTitle": false,
     "title": ""
    }
   },
   "source": [
    "Wartość `local[8]` oznacza że obliczenia wykonywane są na lokalnej instancji Spark-a (1 maszyna) korzystając z 8 rdzeni procesora.\n",
    "\n",
    "W przemysłowym zastosowaniu aplikacja wykonywana będzie raczej na wielu maszynach, korzystając z tzw. cluster-managerów wspomagających w wykorzystaniu dostępnych zasobów (np. _YARN_, _Mesos_, czy wbudowany _Standalone Cluster_)."
   ]
  },
  {
   "cell_type": "markdown",
   "metadata": {
    "application/vnd.databricks.v1+cell": {
     "inputWidgets": {},
     "nuid": "ea68112a-8791-44eb-988e-e0e217553c54",
     "showTitle": false,
     "title": ""
    }
   },
   "source": [
    "### Ćwiczenia\n",
    "Poniższe ćwiczenia mają na celu zapoznanie się ze podstawami języka Python umożliwiającymi swobodną pracę z kolejnymi zadaniami. Komendy nie korzystają z frameworka Spark i wykonywane są w lokalnym interprzeterze. \n",
    "\n",
    "W instrukcji do laboratorium zamieszczono także przykładowe linki do interaktywnych kursów języka."
   ]
  },
  {
   "cell_type": "markdown",
   "metadata": {
    "application/vnd.databricks.v1+cell": {
     "inputWidgets": {},
     "nuid": "bfcd66a8-345a-40df-8507-6a4c7c0922ab",
     "showTitle": false,
     "title": ""
    }
   },
   "source": [
    "**Ćwiczenie 1**: Należy zadeklarować tablicę zawierającą kolejno liczby od 100 do 150 (50 elementów). Wynik zachować w zmiennej `arr`.\n",
    "\n",
    "Umieszczenie `arr` jako ostatniej instrukcji w komórce spowoduje jej wylistowanie (jest to cecha interaktywnych notatników, którą można wyłączyć za pomocą konfiguracji).\n",
    "\n",
    "Pomoc: [metoda `range`](https://docs.python.org/3/library/functions.html#func-range)"
   ]
  },
  {
   "cell_type": "code",
   "execution_count": null,
   "metadata": {
    "application/vnd.databricks.v1+cell": {
     "inputWidgets": {},
     "nuid": "5500bd70-0b66-414a-bb2c-205e8c074ac6",
     "showTitle": false,
     "title": ""
    }
   },
   "outputs": [],
   "source": [
    "# arr = ..."
   ]
  },
  {
   "cell_type": "markdown",
   "metadata": {
    "application/vnd.databricks.v1+cell": {
     "inputWidgets": {},
     "nuid": "052b21fa-329e-4b16-b334-6f3a5874b38a",
     "showTitle": false,
     "title": ""
    }
   },
   "source": [
    "**Ćwiczenie 2**: Należy zdefiniować funkcję o nazwie `contains_7` pobierającą jako argument liczbę, zwracającą wartość `True/False` w przypadku jeśli dana liczba jest podzielna przez 7 lub zawiera cyfrę '7'.\n",
    "\n",
    "Pomoc: [tworzenie funkcji](https://www.tutorialspoint.com/python3/python_functions.htm), [metoda `str`](https://docs.python.org/3/library/stdtypes.html#str), [słowo kluczowe `in`](http://www.jworks.nl/2013/11/07/python-goodness-the-in-keyword/)"
   ]
  },
  {
   "cell_type": "code",
   "execution_count": null,
   "metadata": {
    "application/vnd.databricks.v1+cell": {
     "inputWidgets": {},
     "nuid": "32789ff9-d697-4882-b4f2-c9744a312143",
     "showTitle": false,
     "title": ""
    }
   },
   "outputs": [],
   "source": [
    "def contains_7(x):\n",
    "  pass"
   ]
  },
  {
   "cell_type": "markdown",
   "metadata": {
    "application/vnd.databricks.v1+cell": {
     "inputWidgets": {},
     "nuid": "c390a0c5-4eb9-4887-b03b-7eba976a92fa",
     "showTitle": false,
     "title": ""
    }
   },
   "source": [
    "**Ćwiczenie 3**: Należy zadeklarować pętlę która wywoła funkcję `contains_7` dla każdej wartości z tablicy `arr`. Wartością wynikową powinna być **mapa** `m`, gdzie kluczami są kolejne liczby z tablicy `arr`, natomiast wartościami wynik funkcji `contains_7`. Np.\n",
    "\n",
    "     {\n",
    "       ...\n",
    "       104: false,\n",
    "       105: true,\n",
    "       ...\n",
    "     }\n",
    " \n",
    "Pomoc: [pętla `for`](https://wiki.python.org/moin/ForLoop), mechanizm [dict comprehension](https://stackoverflow.com/questions/1747817/create-a-dictionary-with-list-comprehension-in-python#1747827)."
   ]
  },
  {
   "cell_type": "code",
   "execution_count": null,
   "metadata": {
    "application/vnd.databricks.v1+cell": {
     "inputWidgets": {},
     "nuid": "8bb5bf90-04be-47c2-9a7e-e85cae458d59",
     "showTitle": false,
     "title": ""
    }
   },
   "outputs": [],
   "source": [
    "# m = ..."
   ]
  },
  {
   "cell_type": "markdown",
   "metadata": {
    "application/vnd.databricks.v1+cell": {
     "inputWidgets": {},
     "nuid": "f842b3e6-e3eb-4093-b4fa-247ce0f5b903",
     "showTitle": false,
     "title": ""
    }
   },
   "source": [
    "**Ćwiczenie 4**: Korzystając z danych zgromadzonych w mapie `m` należy obliczyć:\n",
    "- ilości elementów dla których wartość to `True`,\n",
    "- sumę wartości ich kluczy\n",
    "\n",
    "Wynik należy zaprezentować w formacie `Znaleziono <> obiektów. Ich suma to <>` (poprawne odpowiedzi to prawdopodobnie `11` i `1370`).\n",
    "\n",
    "Pomoc: [używanie metody `print`](https://www.digitalocean.com/community/tutorials/how-to-use-string-formatters-in-python-3), [iterowanie map](https://stackoverflow.com/questions/3294889/iterating-over-dictionaries-using-for-loops), funkcje `len` i `sum`."
   ]
  },
  {
   "cell_type": "code",
   "execution_count": null,
   "metadata": {
    "application/vnd.databricks.v1+cell": {
     "inputWidgets": {},
     "nuid": "14854f9f-79c3-40bb-800e-15c097b57521",
     "showTitle": false,
     "title": ""
    }
   },
   "outputs": [],
   "source": [
    "# ..."
   ]
  }
 ],
 "metadata": {
  "application/vnd.databricks.v1+notebook": {
   "dashboards": [],
   "language": "python",
   "notebookMetadata": {
    "pythonIndentUnit": 2
   },
   "notebookName": "lab12_zmienne",
   "notebookOrigID": 3334439263514676,
   "widgets": {}
  },
  "kernelspec": {
   "display_name": "Python 3 (ipykernel)",
   "language": "python",
   "name": "python3"
  },
  "language_info": {
   "codemirror_mode": {
    "name": "ipython",
    "version": 3
   },
   "file_extension": ".py",
   "mimetype": "text/x-python",
   "name": "python",
   "nbconvert_exporter": "python",
   "pygments_lexer": "ipython3",
   "version": "3.11.3"
  },
  "name": "lab8_zmienne",
  "notebookId": 4185284928380431
 },
 "nbformat": 4,
 "nbformat_minor": 1
}
